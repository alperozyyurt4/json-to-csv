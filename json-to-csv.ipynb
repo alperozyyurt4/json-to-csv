{
 "cells": [
  {
   "cell_type": "code",
   "execution_count": null,
   "id": "22e25e8f-0638-42fe-a385-5c71332b7684",
   "metadata": {},
   "outputs": [],
   "source": [
    "import json\n",
    "import csv\n",
    "\n",
    "# Load the JSON file\n",
    "with open('jfile.json', 'r', encoding='utf-8') as json_file:\n",
    "    data = json.load(json_file)\n",
    "\n",
    "# Tags to be removed (both at flat level and within details)\n",
    "removed_tags = ['unwanted_field1', 'unwanted_field2']\n",
    "removed_details_tags = ['nested_field1', 'nested_field2']\n",
    "\n",
    "# Processed data and dynamic columns set\n",
    "cleaned_data = []\n",
    "fieldnames = set()\n",
    "\n",
    "for item in data:\n",
    "    # Remove tags at the flat level\n",
    "    cleaned_item = {key: value for key, value in item.items() if key not in removed_tags}\n",
    "\n",
    "    # Check for `details` tag and clean its sub-tags\n",
    "    if 'details' in cleaned_item and isinstance(cleaned_item['details'], list):\n",
    "        for detail in cleaned_item['details']:\n",
    "            for key, value in detail.items():\n",
    "                if key not in removed_details_tags:\n",
    "                    cleaned_item[f\"details_{key}\"] = value\n",
    "        del cleaned_item['details']  # Remove the `details` field after processing\n",
    "\n",
    "    cleaned_data.append(cleaned_item)\n",
    "    fieldnames.update(cleaned_item.keys())\n",
    "\n",
    "# Write to CSV\n",
    "csv_file_name = 'nfile.csv'\n",
    "with open(csv_file_name, 'w', encoding='utf-8', newline='') as csv_file:\n",
    "    # Write column headers\n",
    "    writer = csv.DictWriter(csv_file, fieldnames=fieldnames)\n",
    "    writer.writeheader()\n",
    "    writer.writerows(cleaned_data)\n",
    "\n",
    "print(f\"Data has been saved to {csv_file_name}.\")\n"
   ]
  }
 ],
 "metadata": {
  "kernelspec": {
   "display_name": "Python 3 (ipykernel)",
   "language": "python",
   "name": "python3"
  },
  "language_info": {
   "codemirror_mode": {
    "name": "ipython",
    "version": 3
   },
   "file_extension": ".py",
   "mimetype": "text/x-python",
   "name": "python",
   "nbconvert_exporter": "python",
   "pygments_lexer": "ipython3",
   "version": "3.13.0"
  }
 },
 "nbformat": 4,
 "nbformat_minor": 5
}
